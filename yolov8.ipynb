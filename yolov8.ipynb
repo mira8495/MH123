{
  "nbformat": 4,
  "nbformat_minor": 0,
  "metadata": {
    "colab": {
      "provenance": []
    },
    "kernelspec": {
      "name": "python3",
      "display_name": "Python 3"
    },
    "language_info": {
      "name": "python"
    }
  },
  "cells": [
    {
      "cell_type": "code",
      "execution_count": 1,
      "metadata": {
        "colab": {
          "base_uri": "https://localhost:8080/"
        },
        "id": "C0e36h6U2eUw",
        "outputId": "3360ae0e-8c8b-439b-e060-95ea5c6219f4"
      },
      "outputs": [
        {
          "output_type": "stream",
          "name": "stdout",
          "text": [
            "Collecting ultralytics\n",
            "  Downloading ultralytics-8.1.15-py3-none-any.whl (715 kB)\n",
            "\u001b[?25l     \u001b[90m━━━━━━━━━━━━━━━━━━━━━━━━━━━━━━━━━━━━━━━━\u001b[0m \u001b[32m0.0/715.1 kB\u001b[0m \u001b[31m?\u001b[0m eta \u001b[36m-:--:--\u001b[0m\r\u001b[2K     \u001b[91m━━━━━━━━━━━━\u001b[0m\u001b[91m╸\u001b[0m\u001b[90m━━━━━━━━━━━━━━━━━━━━━━━━━━━\u001b[0m \u001b[32m225.3/715.1 kB\u001b[0m \u001b[31m6.5 MB/s\u001b[0m eta \u001b[36m0:00:01\u001b[0m\r\u001b[2K     \u001b[91m━━━━━━━━━━━━━━━━━━━━━━━━━━━━━━━━━━━━━━━\u001b[0m\u001b[91m╸\u001b[0m \u001b[32m706.6/715.1 kB\u001b[0m \u001b[31m10.3 MB/s\u001b[0m eta \u001b[36m0:00:01\u001b[0m\r\u001b[2K     \u001b[90m━━━━━━━━━━━━━━━━━━━━━━━━━━━━━━━━━━━━━━━━\u001b[0m \u001b[32m715.1/715.1 kB\u001b[0m \u001b[31m8.6 MB/s\u001b[0m eta \u001b[36m0:00:00\u001b[0m\n",
            "\u001b[?25hRequirement already satisfied: matplotlib>=3.3.0 in /usr/local/lib/python3.10/dist-packages (from ultralytics) (3.7.1)\n",
            "Requirement already satisfied: opencv-python>=4.6.0 in /usr/local/lib/python3.10/dist-packages (from ultralytics) (4.8.0.76)\n",
            "Requirement already satisfied: pillow>=7.1.2 in /usr/local/lib/python3.10/dist-packages (from ultralytics) (9.4.0)\n",
            "Requirement already satisfied: pyyaml>=5.3.1 in /usr/local/lib/python3.10/dist-packages (from ultralytics) (6.0.1)\n",
            "Requirement already satisfied: requests>=2.23.0 in /usr/local/lib/python3.10/dist-packages (from ultralytics) (2.31.0)\n",
            "Requirement already satisfied: scipy>=1.4.1 in /usr/local/lib/python3.10/dist-packages (from ultralytics) (1.11.4)\n",
            "Requirement already satisfied: torch>=1.8.0 in /usr/local/lib/python3.10/dist-packages (from ultralytics) (2.1.0+cu121)\n",
            "Requirement already satisfied: torchvision>=0.9.0 in /usr/local/lib/python3.10/dist-packages (from ultralytics) (0.16.0+cu121)\n",
            "Requirement already satisfied: tqdm>=4.64.0 in /usr/local/lib/python3.10/dist-packages (from ultralytics) (4.66.2)\n",
            "Requirement already satisfied: psutil in /usr/local/lib/python3.10/dist-packages (from ultralytics) (5.9.5)\n",
            "Requirement already satisfied: py-cpuinfo in /usr/local/lib/python3.10/dist-packages (from ultralytics) (9.0.0)\n",
            "Collecting thop>=0.1.1 (from ultralytics)\n",
            "  Downloading thop-0.1.1.post2209072238-py3-none-any.whl (15 kB)\n",
            "Requirement already satisfied: pandas>=1.1.4 in /usr/local/lib/python3.10/dist-packages (from ultralytics) (1.5.3)\n",
            "Requirement already satisfied: seaborn>=0.11.0 in /usr/local/lib/python3.10/dist-packages (from ultralytics) (0.13.1)\n",
            "Requirement already satisfied: contourpy>=1.0.1 in /usr/local/lib/python3.10/dist-packages (from matplotlib>=3.3.0->ultralytics) (1.2.0)\n",
            "Requirement already satisfied: cycler>=0.10 in /usr/local/lib/python3.10/dist-packages (from matplotlib>=3.3.0->ultralytics) (0.12.1)\n",
            "Requirement already satisfied: fonttools>=4.22.0 in /usr/local/lib/python3.10/dist-packages (from matplotlib>=3.3.0->ultralytics) (4.48.1)\n",
            "Requirement already satisfied: kiwisolver>=1.0.1 in /usr/local/lib/python3.10/dist-packages (from matplotlib>=3.3.0->ultralytics) (1.4.5)\n",
            "Requirement already satisfied: numpy>=1.20 in /usr/local/lib/python3.10/dist-packages (from matplotlib>=3.3.0->ultralytics) (1.25.2)\n",
            "Requirement already satisfied: packaging>=20.0 in /usr/local/lib/python3.10/dist-packages (from matplotlib>=3.3.0->ultralytics) (23.2)\n",
            "Requirement already satisfied: pyparsing>=2.3.1 in /usr/local/lib/python3.10/dist-packages (from matplotlib>=3.3.0->ultralytics) (3.1.1)\n",
            "Requirement already satisfied: python-dateutil>=2.7 in /usr/local/lib/python3.10/dist-packages (from matplotlib>=3.3.0->ultralytics) (2.8.2)\n",
            "Requirement already satisfied: pytz>=2020.1 in /usr/local/lib/python3.10/dist-packages (from pandas>=1.1.4->ultralytics) (2023.4)\n",
            "Requirement already satisfied: charset-normalizer<4,>=2 in /usr/local/lib/python3.10/dist-packages (from requests>=2.23.0->ultralytics) (3.3.2)\n",
            "Requirement already satisfied: idna<4,>=2.5 in /usr/local/lib/python3.10/dist-packages (from requests>=2.23.0->ultralytics) (3.6)\n",
            "Requirement already satisfied: urllib3<3,>=1.21.1 in /usr/local/lib/python3.10/dist-packages (from requests>=2.23.0->ultralytics) (2.0.7)\n",
            "Requirement already satisfied: certifi>=2017.4.17 in /usr/local/lib/python3.10/dist-packages (from requests>=2.23.0->ultralytics) (2024.2.2)\n",
            "Requirement already satisfied: filelock in /usr/local/lib/python3.10/dist-packages (from torch>=1.8.0->ultralytics) (3.13.1)\n",
            "Requirement already satisfied: typing-extensions in /usr/local/lib/python3.10/dist-packages (from torch>=1.8.0->ultralytics) (4.9.0)\n",
            "Requirement already satisfied: sympy in /usr/local/lib/python3.10/dist-packages (from torch>=1.8.0->ultralytics) (1.12)\n",
            "Requirement already satisfied: networkx in /usr/local/lib/python3.10/dist-packages (from torch>=1.8.0->ultralytics) (3.2.1)\n",
            "Requirement already satisfied: jinja2 in /usr/local/lib/python3.10/dist-packages (from torch>=1.8.0->ultralytics) (3.1.3)\n",
            "Requirement already satisfied: fsspec in /usr/local/lib/python3.10/dist-packages (from torch>=1.8.0->ultralytics) (2023.6.0)\n",
            "Requirement already satisfied: triton==2.1.0 in /usr/local/lib/python3.10/dist-packages (from torch>=1.8.0->ultralytics) (2.1.0)\n",
            "Requirement already satisfied: six>=1.5 in /usr/local/lib/python3.10/dist-packages (from python-dateutil>=2.7->matplotlib>=3.3.0->ultralytics) (1.16.0)\n",
            "Requirement already satisfied: MarkupSafe>=2.0 in /usr/local/lib/python3.10/dist-packages (from jinja2->torch>=1.8.0->ultralytics) (2.1.5)\n",
            "Requirement already satisfied: mpmath>=0.19 in /usr/local/lib/python3.10/dist-packages (from sympy->torch>=1.8.0->ultralytics) (1.3.0)\n",
            "Installing collected packages: thop, ultralytics\n",
            "Successfully installed thop-0.1.1.post2209072238 ultralytics-8.1.15\n"
          ]
        }
      ],
      "source": [
        "!pip install ultralytics"
      ]
    },
    {
      "cell_type": "code",
      "source": [
        "!pwd"
      ],
      "metadata": {
        "colab": {
          "base_uri": "https://localhost:8080/"
        },
        "id": "mclH-huO218e",
        "outputId": "e029f118-d3bf-4e07-e3d0-51480ddcaf3d"
      },
      "execution_count": 2,
      "outputs": [
        {
          "output_type": "stream",
          "name": "stdout",
          "text": [
            "/content\n"
          ]
        }
      ]
    },
    {
      "cell_type": "code",
      "source": [
        "!yolo task=detect mode=predict model=yolov8n.pt source='/images/1.jpeg'"
      ],
      "metadata": {
        "colab": {
          "base_uri": "https://localhost:8080/"
        },
        "id": "-uzG-5fi21_R",
        "outputId": "f2f16bb0-ae17-4272-f369-847aea064784"
      },
      "execution_count": 4,
      "outputs": [
        {
          "output_type": "stream",
          "name": "stdout",
          "text": [
            "Ultralytics YOLOv8.1.15 🚀 Python-3.10.12 torch-2.1.0+cu121 CPU (Intel Xeon 2.20GHz)\n",
            "YOLOv8n summary (fused): 168 layers, 3151904 parameters, 0 gradients, 8.7 GFLOPs\n",
            "\n",
            "image 1/1 /images/1.jpeg: 384x640 1 cat, 2 dogs, 1 toilet, 252.2ms\n",
            "Speed: 30.9ms preprocess, 252.2ms inference, 34.1ms postprocess per image at shape (1, 3, 384, 640)\n",
            "Results saved to \u001b[1mruns/detect/predict\u001b[0m\n",
            "💡 Learn more at https://docs.ultralytics.com/modes/predict\n"
          ]
        }
      ]
    },
    {
      "cell_type": "code",
      "source": [
        "!yolo task=segment mode=predict model=yolov8n-seg.pt source='/images/1.jpeg'"
      ],
      "metadata": {
        "colab": {
          "base_uri": "https://localhost:8080/"
        },
        "id": "SWa0xpN44d5s",
        "outputId": "b27a69c1-c3ef-4ee3-bee8-26e3b374c31f"
      },
      "execution_count": 5,
      "outputs": [
        {
          "output_type": "stream",
          "name": "stdout",
          "text": [
            "Downloading https://github.com/ultralytics/assets/releases/download/v8.1.0/yolov8n-seg.pt to 'yolov8n-seg.pt'...\n",
            "100% 6.73M/6.73M [00:00<00:00, 72.2MB/s]\n",
            "Ultralytics YOLOv8.1.15 🚀 Python-3.10.12 torch-2.1.0+cu121 CPU (Intel Xeon 2.20GHz)\n",
            "YOLOv8n-seg summary (fused): 195 layers, 3404320 parameters, 0 gradients, 12.6 GFLOPs\n",
            "\n",
            "image 1/1 /images/1.jpeg: 384x640 1 cat, 1 dog, 270.1ms\n",
            "Speed: 7.7ms preprocess, 270.1ms inference, 14.9ms postprocess per image at shape (1, 3, 384, 640)\n",
            "Results saved to \u001b[1mruns/segment/predict\u001b[0m\n",
            "💡 Learn more at https://docs.ultralytics.com/modes/predict\n"
          ]
        }
      ]
    },
    {
      "cell_type": "code",
      "source": [
        "#using python script\n",
        "from ultralytics import YOLO\n",
        "\n",
        "model=YOLO(\"yolov8n-seg.pt\")\n",
        "model.predict(source=\"/flight/*.jpeg\")"
      ],
      "metadata": {
        "colab": {
          "base_uri": "https://localhost:8080/"
        },
        "id": "C5oI-lGd5Zr_",
        "outputId": "f4c67be9-8103-4460-b3c4-9badb61c2685"
      },
      "execution_count": 12,
      "outputs": [
        {
          "output_type": "stream",
          "name": "stdout",
          "text": [
            "\n",
            "image 1/4 /flight/1.jpeg: 448x640 1 airplane, 313.8ms\n",
            "image 2/4 /flight/2.jpeg: 384x640 2 airplanes, 212.7ms\n",
            "image 3/4 /flight/3.jpeg: 448x640 3 airplanes, 1 kite, 214.9ms\n",
            "image 4/4 /flight/4.jpeg: 448x640 (no detections), 217.8ms\n",
            "Speed: 3.4ms preprocess, 239.8ms inference, 6.4ms postprocess per image at shape (1, 3, 448, 640)\n"
          ]
        },
        {
          "output_type": "execute_result",
          "data": {
            "text/plain": [
              "[ultralytics.engine.results.Results object with attributes:\n",
              " \n",
              " boxes: ultralytics.engine.results.Boxes object\n",
              " keypoints: None\n",
              " masks: ultralytics.engine.results.Masks object\n",
              " names: {0: 'person', 1: 'bicycle', 2: 'car', 3: 'motorcycle', 4: 'airplane', 5: 'bus', 6: 'train', 7: 'truck', 8: 'boat', 9: 'traffic light', 10: 'fire hydrant', 11: 'stop sign', 12: 'parking meter', 13: 'bench', 14: 'bird', 15: 'cat', 16: 'dog', 17: 'horse', 18: 'sheep', 19: 'cow', 20: 'elephant', 21: 'bear', 22: 'zebra', 23: 'giraffe', 24: 'backpack', 25: 'umbrella', 26: 'handbag', 27: 'tie', 28: 'suitcase', 29: 'frisbee', 30: 'skis', 31: 'snowboard', 32: 'sports ball', 33: 'kite', 34: 'baseball bat', 35: 'baseball glove', 36: 'skateboard', 37: 'surfboard', 38: 'tennis racket', 39: 'bottle', 40: 'wine glass', 41: 'cup', 42: 'fork', 43: 'knife', 44: 'spoon', 45: 'bowl', 46: 'banana', 47: 'apple', 48: 'sandwich', 49: 'orange', 50: 'broccoli', 51: 'carrot', 52: 'hot dog', 53: 'pizza', 54: 'donut', 55: 'cake', 56: 'chair', 57: 'couch', 58: 'potted plant', 59: 'bed', 60: 'dining table', 61: 'toilet', 62: 'tv', 63: 'laptop', 64: 'mouse', 65: 'remote', 66: 'keyboard', 67: 'cell phone', 68: 'microwave', 69: 'oven', 70: 'toaster', 71: 'sink', 72: 'refrigerator', 73: 'book', 74: 'clock', 75: 'vase', 76: 'scissors', 77: 'teddy bear', 78: 'hair drier', 79: 'toothbrush'}\n",
              " obb: None\n",
              " orig_img: array([[[252, 141,  55],\n",
              "         [252, 141,  55],\n",
              "         [252, 141,  55],\n",
              "         ...,\n",
              "         [255, 142,  56],\n",
              "         [255, 142,  56],\n",
              "         [255, 142,  56]],\n",
              " \n",
              "        [[252, 141,  55],\n",
              "         [252, 141,  55],\n",
              "         [252, 141,  55],\n",
              "         ...,\n",
              "         [255, 142,  56],\n",
              "         [255, 142,  56],\n",
              "         [255, 142,  56]],\n",
              " \n",
              "        [[252, 141,  55],\n",
              "         [252, 141,  55],\n",
              "         [252, 141,  55],\n",
              "         ...,\n",
              "         [255, 142,  56],\n",
              "         [255, 142,  56],\n",
              "         [255, 142,  56]],\n",
              " \n",
              "        ...,\n",
              " \n",
              "        [[121, 126, 125],\n",
              "         [250, 255, 254],\n",
              "         [251, 255, 255],\n",
              "         ...,\n",
              "         [251, 253, 254],\n",
              "         [251, 253, 254],\n",
              "         [251, 253, 254]],\n",
              " \n",
              "        [[125, 125, 125],\n",
              "         [254, 254, 254],\n",
              "         [255, 255, 255],\n",
              "         ...,\n",
              "         [251, 253, 254],\n",
              "         [251, 253, 254],\n",
              "         [251, 253, 254]],\n",
              " \n",
              "        [[129, 124, 125],\n",
              "         [255, 253, 254],\n",
              "         [255, 254, 255],\n",
              "         ...,\n",
              "         [254, 254, 254],\n",
              "         [254, 254, 254],\n",
              "         [254, 254, 254]]], dtype=uint8)\n",
              " orig_shape: (148, 223)\n",
              " path: '/flight/1.jpeg'\n",
              " probs: None\n",
              " save_dir: None\n",
              " speed: {'preprocess': 5.050182342529297, 'inference': 313.7977123260498, 'postprocess': 4.979133605957031},\n",
              " ultralytics.engine.results.Results object with attributes:\n",
              " \n",
              " boxes: ultralytics.engine.results.Boxes object\n",
              " keypoints: None\n",
              " masks: ultralytics.engine.results.Masks object\n",
              " names: {0: 'person', 1: 'bicycle', 2: 'car', 3: 'motorcycle', 4: 'airplane', 5: 'bus', 6: 'train', 7: 'truck', 8: 'boat', 9: 'traffic light', 10: 'fire hydrant', 11: 'stop sign', 12: 'parking meter', 13: 'bench', 14: 'bird', 15: 'cat', 16: 'dog', 17: 'horse', 18: 'sheep', 19: 'cow', 20: 'elephant', 21: 'bear', 22: 'zebra', 23: 'giraffe', 24: 'backpack', 25: 'umbrella', 26: 'handbag', 27: 'tie', 28: 'suitcase', 29: 'frisbee', 30: 'skis', 31: 'snowboard', 32: 'sports ball', 33: 'kite', 34: 'baseball bat', 35: 'baseball glove', 36: 'skateboard', 37: 'surfboard', 38: 'tennis racket', 39: 'bottle', 40: 'wine glass', 41: 'cup', 42: 'fork', 43: 'knife', 44: 'spoon', 45: 'bowl', 46: 'banana', 47: 'apple', 48: 'sandwich', 49: 'orange', 50: 'broccoli', 51: 'carrot', 52: 'hot dog', 53: 'pizza', 54: 'donut', 55: 'cake', 56: 'chair', 57: 'couch', 58: 'potted plant', 59: 'bed', 60: 'dining table', 61: 'toilet', 62: 'tv', 63: 'laptop', 64: 'mouse', 65: 'remote', 66: 'keyboard', 67: 'cell phone', 68: 'microwave', 69: 'oven', 70: 'toaster', 71: 'sink', 72: 'refrigerator', 73: 'book', 74: 'clock', 75: 'vase', 76: 'scissors', 77: 'teddy bear', 78: 'hair drier', 79: 'toothbrush'}\n",
              " obb: None\n",
              " orig_img: array([[[115, 193, 252],\n",
              "         [115, 193, 252],\n",
              "         [115, 193, 252],\n",
              "         ...,\n",
              "         [110, 138, 203],\n",
              "         [110, 138, 203],\n",
              "         [110, 138, 203]],\n",
              " \n",
              "        [[115, 193, 252],\n",
              "         [115, 193, 252],\n",
              "         [115, 193, 252],\n",
              "         ...,\n",
              "         [109, 137, 202],\n",
              "         [109, 137, 202],\n",
              "         [109, 137, 202]],\n",
              " \n",
              "        [[115, 193, 252],\n",
              "         [115, 193, 252],\n",
              "         [115, 193, 252],\n",
              "         ...,\n",
              "         [109, 136, 203],\n",
              "         [109, 136, 203],\n",
              "         [109, 136, 203]],\n",
              " \n",
              "        ...,\n",
              " \n",
              "        [[ 73,  70,  62],\n",
              "         [ 74,  71,  63],\n",
              "         [ 74,  71,  63],\n",
              "         ...,\n",
              "         [ 83,  78,  77],\n",
              "         [ 83,  78,  77],\n",
              "         [ 83,  78,  77]],\n",
              " \n",
              "        [[ 73,  70,  62],\n",
              "         [ 74,  71,  63],\n",
              "         [ 74,  71,  63],\n",
              "         ...,\n",
              "         [ 84,  79,  78],\n",
              "         [ 84,  79,  78],\n",
              "         [ 84,  79,  78]],\n",
              " \n",
              "        [[ 73,  70,  62],\n",
              "         [ 74,  71,  63],\n",
              "         [ 74,  71,  63],\n",
              "         ...,\n",
              "         [ 86,  81,  80],\n",
              "         [ 86,  81,  80],\n",
              "         [ 86,  81,  80]]], dtype=uint8)\n",
              " orig_shape: (148, 267)\n",
              " path: '/flight/2.jpeg'\n",
              " probs: None\n",
              " save_dir: None\n",
              " speed: {'preprocess': 2.826690673828125, 'inference': 212.66603469848633, 'postprocess': 6.256103515625},\n",
              " ultralytics.engine.results.Results object with attributes:\n",
              " \n",
              " boxes: ultralytics.engine.results.Boxes object\n",
              " keypoints: None\n",
              " masks: ultralytics.engine.results.Masks object\n",
              " names: {0: 'person', 1: 'bicycle', 2: 'car', 3: 'motorcycle', 4: 'airplane', 5: 'bus', 6: 'train', 7: 'truck', 8: 'boat', 9: 'traffic light', 10: 'fire hydrant', 11: 'stop sign', 12: 'parking meter', 13: 'bench', 14: 'bird', 15: 'cat', 16: 'dog', 17: 'horse', 18: 'sheep', 19: 'cow', 20: 'elephant', 21: 'bear', 22: 'zebra', 23: 'giraffe', 24: 'backpack', 25: 'umbrella', 26: 'handbag', 27: 'tie', 28: 'suitcase', 29: 'frisbee', 30: 'skis', 31: 'snowboard', 32: 'sports ball', 33: 'kite', 34: 'baseball bat', 35: 'baseball glove', 36: 'skateboard', 37: 'surfboard', 38: 'tennis racket', 39: 'bottle', 40: 'wine glass', 41: 'cup', 42: 'fork', 43: 'knife', 44: 'spoon', 45: 'bowl', 46: 'banana', 47: 'apple', 48: 'sandwich', 49: 'orange', 50: 'broccoli', 51: 'carrot', 52: 'hot dog', 53: 'pizza', 54: 'donut', 55: 'cake', 56: 'chair', 57: 'couch', 58: 'potted plant', 59: 'bed', 60: 'dining table', 61: 'toilet', 62: 'tv', 63: 'laptop', 64: 'mouse', 65: 'remote', 66: 'keyboard', 67: 'cell phone', 68: 'microwave', 69: 'oven', 70: 'toaster', 71: 'sink', 72: 'refrigerator', 73: 'book', 74: 'clock', 75: 'vase', 76: 'scissors', 77: 'teddy bear', 78: 'hair drier', 79: 'toothbrush'}\n",
              " obb: None\n",
              " orig_img: array([[[125, 103,  85],\n",
              "         [125, 103,  85],\n",
              "         [126, 104,  86],\n",
              "         ...,\n",
              "         [158, 169, 197],\n",
              "         [156, 168, 196],\n",
              "         [156, 168, 196]],\n",
              " \n",
              "        [[125, 103,  85],\n",
              "         [126, 104,  86],\n",
              "         [127, 105,  87],\n",
              "         ...,\n",
              "         [159, 170, 198],\n",
              "         [157, 169, 197],\n",
              "         [157, 169, 197]],\n",
              " \n",
              "        [[126, 104,  86],\n",
              "         [126, 104,  86],\n",
              "         [127, 105,  87],\n",
              "         ...,\n",
              "         [161, 172, 200],\n",
              "         [158, 170, 198],\n",
              "         [158, 170, 198]],\n",
              " \n",
              "        ...,\n",
              " \n",
              "        [[ 79,  58,  31],\n",
              "         [ 79,  58,  31],\n",
              "         [ 79,  58,  31],\n",
              "         ...,\n",
              "         [ 80,  53,  26],\n",
              "         [ 80,  53,  26],\n",
              "         [ 80,  53,  26]],\n",
              " \n",
              "        [[ 78,  57,  30],\n",
              "         [ 78,  57,  30],\n",
              "         [ 78,  57,  30],\n",
              "         ...,\n",
              "         [ 80,  53,  26],\n",
              "         [ 80,  53,  26],\n",
              "         [ 80,  53,  26]],\n",
              " \n",
              "        [[ 76,  55,  28],\n",
              "         [ 77,  56,  29],\n",
              "         [ 77,  56,  29],\n",
              "         ...,\n",
              "         [ 79,  52,  25],\n",
              "         [ 79,  52,  25],\n",
              "         [ 79,  52,  25]]], dtype=uint8)\n",
              " orig_shape: (148, 218)\n",
              " path: '/flight/3.jpeg'\n",
              " probs: None\n",
              " save_dir: None\n",
              " speed: {'preprocess': 3.0188560485839844, 'inference': 214.86830711364746, 'postprocess': 13.590574264526367},\n",
              " ultralytics.engine.results.Results object with attributes:\n",
              " \n",
              " boxes: ultralytics.engine.results.Boxes object\n",
              " keypoints: None\n",
              " masks: None\n",
              " names: {0: 'person', 1: 'bicycle', 2: 'car', 3: 'motorcycle', 4: 'airplane', 5: 'bus', 6: 'train', 7: 'truck', 8: 'boat', 9: 'traffic light', 10: 'fire hydrant', 11: 'stop sign', 12: 'parking meter', 13: 'bench', 14: 'bird', 15: 'cat', 16: 'dog', 17: 'horse', 18: 'sheep', 19: 'cow', 20: 'elephant', 21: 'bear', 22: 'zebra', 23: 'giraffe', 24: 'backpack', 25: 'umbrella', 26: 'handbag', 27: 'tie', 28: 'suitcase', 29: 'frisbee', 30: 'skis', 31: 'snowboard', 32: 'sports ball', 33: 'kite', 34: 'baseball bat', 35: 'baseball glove', 36: 'skateboard', 37: 'surfboard', 38: 'tennis racket', 39: 'bottle', 40: 'wine glass', 41: 'cup', 42: 'fork', 43: 'knife', 44: 'spoon', 45: 'bowl', 46: 'banana', 47: 'apple', 48: 'sandwich', 49: 'orange', 50: 'broccoli', 51: 'carrot', 52: 'hot dog', 53: 'pizza', 54: 'donut', 55: 'cake', 56: 'chair', 57: 'couch', 58: 'potted plant', 59: 'bed', 60: 'dining table', 61: 'toilet', 62: 'tv', 63: 'laptop', 64: 'mouse', 65: 'remote', 66: 'keyboard', 67: 'cell phone', 68: 'microwave', 69: 'oven', 70: 'toaster', 71: 'sink', 72: 'refrigerator', 73: 'book', 74: 'clock', 75: 'vase', 76: 'scissors', 77: 'teddy bear', 78: 'hair drier', 79: 'toothbrush'}\n",
              " obb: None\n",
              " orig_img: array([[[214, 214, 228],\n",
              "         [214, 214, 228],\n",
              "         [214, 214, 228],\n",
              "         ...,\n",
              "         [189, 109, 110],\n",
              "         [187, 107, 108],\n",
              "         [186, 106, 107]],\n",
              " \n",
              "        [[215, 215, 229],\n",
              "         [215, 215, 229],\n",
              "         [215, 215, 229],\n",
              "         ...,\n",
              "         [187, 109, 110],\n",
              "         [186, 108, 109],\n",
              "         [185, 107, 108]],\n",
              " \n",
              "        [[215, 215, 231],\n",
              "         [215, 215, 231],\n",
              "         [216, 217, 231],\n",
              "         ...,\n",
              "         [183, 111, 111],\n",
              "         [182, 110, 110],\n",
              "         [182, 110, 110]],\n",
              " \n",
              "        ...,\n",
              " \n",
              "        [[ 51,  34,  25],\n",
              "         [ 51,  34,  25],\n",
              "         [ 51,  34,  25],\n",
              "         ...,\n",
              "         [109, 122, 160],\n",
              "         [110, 122, 162],\n",
              "         [109, 123, 165]],\n",
              " \n",
              "        [[ 51,  34,  25],\n",
              "         [ 51,  34,  25],\n",
              "         [ 51,  34,  25],\n",
              "         ...,\n",
              "         [103, 116, 154],\n",
              "         [104, 116, 156],\n",
              "         [102, 116, 158]],\n",
              " \n",
              "        [[ 51,  34,  25],\n",
              "         [ 50,  33,  24],\n",
              "         [ 50,  33,  24],\n",
              "         ...,\n",
              "         [ 98, 111, 149],\n",
              "         [ 99, 111, 151],\n",
              "         [ 98, 112, 154]]], dtype=uint8)\n",
              " orig_shape: (148, 216)\n",
              " path: '/flight/4.jpeg'\n",
              " probs: None\n",
              " save_dir: None\n",
              " speed: {'preprocess': 2.8994083404541016, 'inference': 217.77606010437012, 'postprocess': 0.6856918334960938}]"
            ]
          },
          "metadata": {},
          "execution_count": 12
        }
      ]
    },
    {
      "cell_type": "code",
      "source": [
        "#for classification\n",
        "!yolo task=classify mode=predict model=yolov8n-cls.pt source='/flight/*.jpeg'\n"
      ],
      "metadata": {
        "colab": {
          "base_uri": "https://localhost:8080/"
        },
        "id": "bzdc8sno5Zux",
        "outputId": "d7d99e4e-d394-41dc-c524-bc17435384aa"
      },
      "execution_count": 13,
      "outputs": [
        {
          "output_type": "stream",
          "name": "stdout",
          "text": [
            "Ultralytics YOLOv8.1.15 🚀 Python-3.10.12 torch-2.1.0+cu121 CPU (Intel Xeon 2.20GHz)\n",
            "YOLOv8n-cls summary (fused): 73 layers, 2715880 parameters, 0 gradients, 4.3 GFLOPs\n",
            "\n",
            "image 1/4 /flight/1.jpeg: 224x224 airliner 1.00, projectile 0.00, warplane 0.00, wing 0.00, missile 0.00, 27.2ms\n",
            "image 2/4 /flight/2.jpeg: 224x224 airliner 0.99, rifle 0.01, plane 0.00, warplane 0.00, mousetrap 0.00, 22.4ms\n",
            "image 3/4 /flight/3.jpeg: 224x224 airliner 0.56, space_shuttle 0.43, wing 0.01, warplane 0.01, chain_saw 0.00, 13.9ms\n",
            "image 4/4 /flight/4.jpeg: 224x224 space_shuttle 0.22, airliner 0.15, promontory 0.12, seashore 0.07, wing 0.06, 13.9ms\n",
            "Speed: 4.4ms preprocess, 19.3ms inference, 0.1ms postprocess per image at shape (1, 3, 224, 224)\n",
            "Results saved to \u001b[1mruns/classify/predict2\u001b[0m\n",
            "💡 Learn more at https://docs.ultralytics.com/modes/predict\n"
          ]
        }
      ]
    },
    {
      "cell_type": "code",
      "source": [],
      "metadata": {
        "id": "mQZsJY017iaY"
      },
      "execution_count": null,
      "outputs": []
    }
  ]
}